{
  "nbformat": 4,
  "nbformat_minor": 0,
  "metadata": {
    "colab": {
      "name": "1004_CapStoneProject_HR_ERIP.ipynb",
      "version": "0.3.2",
      "provenance": [],
      "collapsed_sections": [],
      "include_colab_link": true
    },
    "kernelspec": {
      "name": "python3",
      "display_name": "Python 3"
    }
  },
  "cells": [
    {
      "cell_type": "markdown",
      "metadata": {
        "id": "view-in-github",
        "colab_type": "text"
      },
      "source": [
        "<a href=\"https://colab.research.google.com/github/parekhravik/MLProjects/blob/master/1004_CapStoneProject_HR_ERIP.ipynb\" target=\"_parent\"><img src=\"https://colab.research.google.com/assets/colab-badge.svg\" alt=\"Open In Colab\"/></a>"
      ]
    },
    {
      "cell_type": "markdown",
      "metadata": {
        "id": "Ijk3z5ksbRfY",
        "colab_type": "text"
      },
      "source": [
        "**Team:** 1004\n",
        "**Project Name:** Employee Retantion Insight Project (ERIP)"
      ]
    },
    {
      "cell_type": "markdown",
      "metadata": {
        "id": "nmyrZGHCcnqP",
        "colab_type": "text"
      },
      "source": [
        "# 1. Problem Statement\n",
        "\n",
        "Client is looking for an solution which can predict whether an employee will leave or stay based on the past experience data collected. It will give more proactive approach to HR team in handling attritions.\n",
        "\n",
        "\n",
        "**Current Practice:**\n",
        "* Once an employee leaves, he or she is taken an interview with the name “exit interview” and shares reasons for leaving. The HR Department then tries and learns insights from the interview and makes changes accordingly.\n",
        "\n",
        "* This suffers from the following problems:\n",
        "\n",
        "> 1. This approach is that it's too haphazard. The quality of insight gained from an interview depends heavily on the skill of the interviewer.\n",
        "> 2. The second problem is these insights can't be aggregated and interlaced across all employees who have left.\n",
        "> 3.  The third is that it is too late by the time the proposed policy changes take effect.\n",
        "\n",
        "Available Data:\n",
        "\n",
        "* Department Details\n",
        "* Employee Personal Information (Non Sensitive)\n",
        "* Employee Informations (Administrative, Work Load, Company Mutual Evaluation)"
      ]
    },
    {
      "cell_type": "markdown",
      "metadata": {
        "id": "Bc12E7jsVdP2",
        "colab_type": "text"
      },
      "source": [
        "# 2. EDA\n"
      ]
    },
    {
      "cell_type": "markdown",
      "metadata": {
        "id": "4USgLLQQdD0E",
        "colab_type": "text"
      },
      "source": [
        "*   First Step will be to load the data and eximine.\n"
      ]
    },
    {
      "cell_type": "code",
      "metadata": {
        "id": "kU-uTAckZQvm",
        "colab_type": "code",
        "outputId": "3787c56f-17b2-4491-a24f-a6ad0cc381ff",
        "colab": {
          "base_uri": "https://localhost:8080/",
          "height": 171
        }
      },
      "source": [
        "!pip install mysql-connector-python"
      ],
      "execution_count": 0,
      "outputs": [
        {
          "output_type": "stream",
          "text": [
            "Collecting mysql-connector-python\n",
            "\u001b[?25l  Downloading https://files.pythonhosted.org/packages/58/ac/a3e86e5df84b818f69ebb8c89f282efe6a15d3ad63a769314cdd00bccbbb/mysql_connector_python-8.0.17-cp36-cp36m-manylinux1_x86_64.whl (13.1MB)\n",
            "\u001b[K     |████████████████████████████████| 13.1MB 4.5MB/s \n",
            "\u001b[?25hRequirement already satisfied: protobuf>=3.0.0 in /usr/local/lib/python3.6/dist-packages (from mysql-connector-python) (3.7.1)\n",
            "Requirement already satisfied: six>=1.9 in /usr/local/lib/python3.6/dist-packages (from protobuf>=3.0.0->mysql-connector-python) (1.12.0)\n",
            "Requirement already satisfied: setuptools in /usr/local/lib/python3.6/dist-packages (from protobuf>=3.0.0->mysql-connector-python) (41.0.1)\n",
            "Installing collected packages: mysql-connector-python\n",
            "Successfully installed mysql-connector-python-8.0.17\n"
          ],
          "name": "stdout"
        }
      ]
    },
    {
      "cell_type": "code",
      "metadata": {
        "id": "ftIzEqZ2lS8l",
        "colab_type": "code",
        "colab": {}
      },
      "source": [
        "#Imports\n",
        "\n",
        "import mysql.connector\n",
        "from mysql.connector import errorcode\n",
        "\n",
        "import pandas as pd\n",
        "import numpy as np\n",
        "import seaborn as sns\n",
        "import matplotlib.pyplot as plt\n",
        "from matplotlib.pyplot import pie, axis, show\n",
        "%matplotlib inline                                                              \n",
        "\n",
        "import warnings                                                                 # Ignore warning related to pandas_profiling\n",
        "warnings.filterwarnings('ignore') \n",
        "\n",
        "import sqlalchemy as sqla\n",
        "import pandas_profiling\n",
        "\n",
        "from google.colab import files"
      ],
      "execution_count": 0,
      "outputs": []
    },
    {
      "cell_type": "code",
      "metadata": {
        "id": "TE_xuYkMllMK",
        "colab_type": "code",
        "colab": {}
      },
      "source": [
        "#Connect to DB and Load data\n",
        "\n",
        "#DB Connection Details\n",
        "vDBUser='student'\n",
        "vDBPwd='student'\n",
        "vDBHost='projects.insaid.co'\n",
        "vDBSid='Capstone2'\n",
        "\n",
        "try:\n",
        "  cnx = mysql.connector.connect(user=vDBUser, password=vDBPwd,\n",
        "                                host=vDBHost, database=vDBSid)\n",
        "  \n",
        "  pdDepartments = pd.read_sql('SELECT * FROM department_data',cnx) \n",
        "  pdEmployeeDetails = pd.read_sql('SELECT * FROM employee_details_data',cnx)  \n",
        "  pdEmployeeData = pd.read_sql('SELECT * FROM employee_data',cnx)\n",
        "  \n",
        "except mysql.connector.Error as err:\n",
        "  if err.errno == errorcode.ER_ACCESS_DENIED_ERROR:\n",
        "    print(\"Something is wrong with your user name or password\")\n",
        "  elif err.errno == errorcode.ER_BAD_DB_ERROR:\n",
        "    print(\"Database does not exist\")\n",
        "  else:\n",
        "    print(err)\n",
        "else:\n",
        "  cnx.close()\n",
        "  \n",
        "cnx.close()"
      ],
      "execution_count": 0,
      "outputs": []
    },
    {
      "cell_type": "code",
      "metadata": {
        "id": "MEG2dfJpnYuv",
        "colab_type": "code",
        "outputId": "b53032f3-bbf9-4b38-9db4-79ead1617ebb",
        "colab": {
          "base_uri": "https://localhost:8080/",
          "height": 373
        }
      },
      "source": [
        "pdDepartments"
      ],
      "execution_count": 0,
      "outputs": [
        {
          "output_type": "execute_result",
          "data": {
            "text/html": [
              "<div>\n",
              "<style scoped>\n",
              "    .dataframe tbody tr th:only-of-type {\n",
              "        vertical-align: middle;\n",
              "    }\n",
              "\n",
              "    .dataframe tbody tr th {\n",
              "        vertical-align: top;\n",
              "    }\n",
              "\n",
              "    .dataframe thead th {\n",
              "        text-align: right;\n",
              "    }\n",
              "</style>\n",
              "<table border=\"1\" class=\"dataframe\">\n",
              "  <thead>\n",
              "    <tr style=\"text-align: right;\">\n",
              "      <th></th>\n",
              "      <th>dept_id</th>\n",
              "      <th>dept_name</th>\n",
              "      <th>dept_head</th>\n",
              "    </tr>\n",
              "  </thead>\n",
              "  <tbody>\n",
              "    <tr>\n",
              "      <th>0</th>\n",
              "      <td>D00-IT</td>\n",
              "      <td>IT</td>\n",
              "      <td>Henry Adey</td>\n",
              "    </tr>\n",
              "    <tr>\n",
              "      <th>1</th>\n",
              "      <td>D00-SS</td>\n",
              "      <td>Sales</td>\n",
              "      <td>Edward J Bayley</td>\n",
              "    </tr>\n",
              "    <tr>\n",
              "      <th>2</th>\n",
              "      <td>D00-TP</td>\n",
              "      <td>Temp</td>\n",
              "      <td>Micheal Zachrey</td>\n",
              "    </tr>\n",
              "    <tr>\n",
              "      <th>3</th>\n",
              "      <td>D00-ENG</td>\n",
              "      <td>Engineering</td>\n",
              "      <td>Sushant Raghunathan K</td>\n",
              "    </tr>\n",
              "    <tr>\n",
              "      <th>4</th>\n",
              "      <td>D00-SP</td>\n",
              "      <td>Support</td>\n",
              "      <td>Amelia Westray</td>\n",
              "    </tr>\n",
              "    <tr>\n",
              "      <th>5</th>\n",
              "      <td>D00-FN</td>\n",
              "      <td>Finance</td>\n",
              "      <td>Aanchal J</td>\n",
              "    </tr>\n",
              "    <tr>\n",
              "      <th>6</th>\n",
              "      <td>D00-PR</td>\n",
              "      <td>Procurement</td>\n",
              "      <td>Louie Viles</td>\n",
              "    </tr>\n",
              "    <tr>\n",
              "      <th>7</th>\n",
              "      <td>D00-AD</td>\n",
              "      <td>Admin</td>\n",
              "      <td>Evelyn Tolson</td>\n",
              "    </tr>\n",
              "    <tr>\n",
              "      <th>8</th>\n",
              "      <td>D00-MN</td>\n",
              "      <td>Management</td>\n",
              "      <td>Ellie Trafton</td>\n",
              "    </tr>\n",
              "    <tr>\n",
              "      <th>9</th>\n",
              "      <td>D00-MT</td>\n",
              "      <td>Marketing</td>\n",
              "      <td>Reuben Swann</td>\n",
              "    </tr>\n",
              "    <tr>\n",
              "      <th>10</th>\n",
              "      <td>D00-PD</td>\n",
              "      <td>Product</td>\n",
              "      <td>Darcy Staines</td>\n",
              "    </tr>\n",
              "  </tbody>\n",
              "</table>\n",
              "</div>"
            ],
            "text/plain": [
              "    dept_id    dept_name              dept_head\n",
              "0    D00-IT           IT             Henry Adey\n",
              "1    D00-SS        Sales        Edward J Bayley\n",
              "2    D00-TP         Temp        Micheal Zachrey\n",
              "3   D00-ENG  Engineering  Sushant Raghunathan K\n",
              "4    D00-SP      Support         Amelia Westray\n",
              "5    D00-FN      Finance              Aanchal J\n",
              "6    D00-PR  Procurement            Louie Viles\n",
              "7    D00-AD        Admin          Evelyn Tolson\n",
              "8    D00-MN   Management          Ellie Trafton\n",
              "9    D00-MT    Marketing           Reuben Swann\n",
              "10   D00-PD      Product          Darcy Staines"
            ]
          },
          "metadata": {
            "tags": []
          },
          "execution_count": 51
        }
      ]
    },
    {
      "cell_type": "code",
      "metadata": {
        "id": "dbDN1QIGQEi7",
        "colab_type": "code",
        "outputId": "e264a987-61b3-4716-f933-9425596fbb59",
        "colab": {
          "base_uri": "https://localhost:8080/",
          "height": 34
        }
      },
      "source": [
        "pdDepartments.shape"
      ],
      "execution_count": 0,
      "outputs": [
        {
          "output_type": "execute_result",
          "data": {
            "text/plain": [
              "(11, 3)"
            ]
          },
          "metadata": {
            "tags": []
          },
          "execution_count": 47
        }
      ]
    },
    {
      "cell_type": "code",
      "metadata": {
        "id": "pSHKZVQ1QSgn",
        "colab_type": "code",
        "outputId": "ee35f6b9-cb4a-4e71-bc74-c2b89b08bdee",
        "colab": {
          "base_uri": "https://localhost:8080/",
          "height": 151
        }
      },
      "source": [
        "pdDepartments.info()"
      ],
      "execution_count": 0,
      "outputs": [
        {
          "output_type": "stream",
          "text": [
            "<class 'pandas.core.frame.DataFrame'>\n",
            "RangeIndex: 11 entries, 0 to 10\n",
            "Data columns (total 3 columns):\n",
            "dept_id      11 non-null object\n",
            "dept_name    11 non-null object\n",
            "dept_head    11 non-null object\n",
            "dtypes: object(3)\n",
            "memory usage: 344.0+ bytes\n"
          ],
          "name": "stdout"
        }
      ]
    },
    {
      "cell_type": "markdown",
      "metadata": {
        "id": "JGcbPVJfQSMw",
        "colab_type": "text"
      },
      "source": [
        "# 2.1 Observations: department_data\n",
        "1.   Our client company has total 11 departments. \n",
        "2.   This data has no missing values, each department is known by its dept_id.\n",
        "\n",
        "Below are the columns in it:\n",
        "\n",
        "\n",
        "1.   dept_id – Unique Department Code\n",
        "2.   dept_name – Name of the Department\n",
        "3.   dept_head – Name of the Head of the Department"
      ]
    },
    {
      "cell_type": "code",
      "metadata": {
        "id": "KD6OkbWVPCxq",
        "colab_type": "code",
        "outputId": "6156d46b-028e-4741-9b41-7f68eb5d18ec",
        "colab": {
          "base_uri": "https://localhost:8080/",
          "height": 195
        }
      },
      "source": [
        "pdEmployeeDetails.head()"
      ],
      "execution_count": 0,
      "outputs": [
        {
          "output_type": "execute_result",
          "data": {
            "text/html": [
              "<div>\n",
              "<style scoped>\n",
              "    .dataframe tbody tr th:only-of-type {\n",
              "        vertical-align: middle;\n",
              "    }\n",
              "\n",
              "    .dataframe tbody tr th {\n",
              "        vertical-align: top;\n",
              "    }\n",
              "\n",
              "    .dataframe thead th {\n",
              "        text-align: right;\n",
              "    }\n",
              "</style>\n",
              "<table border=\"1\" class=\"dataframe\">\n",
              "  <thead>\n",
              "    <tr style=\"text-align: right;\">\n",
              "      <th></th>\n",
              "      <th>employee_id</th>\n",
              "      <th>age</th>\n",
              "      <th>gender</th>\n",
              "      <th>marital_status</th>\n",
              "    </tr>\n",
              "  </thead>\n",
              "  <tbody>\n",
              "    <tr>\n",
              "      <th>0</th>\n",
              "      <td>113558</td>\n",
              "      <td>43</td>\n",
              "      <td>Male</td>\n",
              "      <td>Married</td>\n",
              "    </tr>\n",
              "    <tr>\n",
              "      <th>1</th>\n",
              "      <td>112256</td>\n",
              "      <td>24</td>\n",
              "      <td>Female</td>\n",
              "      <td>Unmarried</td>\n",
              "    </tr>\n",
              "    <tr>\n",
              "      <th>2</th>\n",
              "      <td>112586</td>\n",
              "      <td>22</td>\n",
              "      <td>Female</td>\n",
              "      <td>Unmarried</td>\n",
              "    </tr>\n",
              "    <tr>\n",
              "      <th>3</th>\n",
              "      <td>108071</td>\n",
              "      <td>36</td>\n",
              "      <td>Male</td>\n",
              "      <td>Married</td>\n",
              "    </tr>\n",
              "    <tr>\n",
              "      <th>4</th>\n",
              "      <td>116915</td>\n",
              "      <td>38</td>\n",
              "      <td>Male</td>\n",
              "      <td>Married</td>\n",
              "    </tr>\n",
              "  </tbody>\n",
              "</table>\n",
              "</div>"
            ],
            "text/plain": [
              "   employee_id  age  gender marital_status\n",
              "0       113558   43    Male        Married\n",
              "1       112256   24  Female      Unmarried\n",
              "2       112586   22  Female      Unmarried\n",
              "3       108071   36    Male        Married\n",
              "4       116915   38    Male        Married"
            ]
          },
          "metadata": {
            "tags": []
          },
          "execution_count": 45
        }
      ]
    },
    {
      "cell_type": "code",
      "metadata": {
        "id": "p5rmdA_pWFKx",
        "colab_type": "code",
        "outputId": "6d858ccc-6df1-44c3-9021-d08865d979cb",
        "colab": {
          "base_uri": "https://localhost:8080/",
          "height": 34
        }
      },
      "source": [
        "pdEmployeeDetails.shape"
      ],
      "execution_count": 0,
      "outputs": [
        {
          "output_type": "execute_result",
          "data": {
            "text/plain": [
              "(14245, 4)"
            ]
          },
          "metadata": {
            "tags": []
          },
          "execution_count": 52
        }
      ]
    },
    {
      "cell_type": "code",
      "metadata": {
        "id": "BQqImWG5WK1h",
        "colab_type": "code",
        "outputId": "4fd51905-af80-4076-c246-7f957c27b78d",
        "colab": {
          "base_uri": "https://localhost:8080/",
          "height": 168
        }
      },
      "source": [
        "pdEmployeeDetails.info()"
      ],
      "execution_count": 0,
      "outputs": [
        {
          "output_type": "stream",
          "text": [
            "<class 'pandas.core.frame.DataFrame'>\n",
            "RangeIndex: 14245 entries, 0 to 14244\n",
            "Data columns (total 4 columns):\n",
            "employee_id       14245 non-null int64\n",
            "age               14245 non-null int64\n",
            "gender            14245 non-null object\n",
            "marital_status    14245 non-null object\n",
            "dtypes: int64(2), object(2)\n",
            "memory usage: 445.2+ KB\n"
          ],
          "name": "stdout"
        }
      ]
    },
    {
      "cell_type": "code",
      "metadata": {
        "id": "0jvNb8QrW7kv",
        "colab_type": "code",
        "outputId": "9c0c48e4-7f96-477d-8b55-f31be5d651a8",
        "colab": {
          "base_uri": "https://localhost:8080/",
          "height": 284
        }
      },
      "source": [
        "pdEmployeeDetails.describe()"
      ],
      "execution_count": 0,
      "outputs": [
        {
          "output_type": "execute_result",
          "data": {
            "text/html": [
              "<div>\n",
              "<style scoped>\n",
              "    .dataframe tbody tr th:only-of-type {\n",
              "        vertical-align: middle;\n",
              "    }\n",
              "\n",
              "    .dataframe tbody tr th {\n",
              "        vertical-align: top;\n",
              "    }\n",
              "\n",
              "    .dataframe thead th {\n",
              "        text-align: right;\n",
              "    }\n",
              "</style>\n",
              "<table border=\"1\" class=\"dataframe\">\n",
              "  <thead>\n",
              "    <tr style=\"text-align: right;\">\n",
              "      <th></th>\n",
              "      <th>employee_id</th>\n",
              "      <th>age</th>\n",
              "    </tr>\n",
              "  </thead>\n",
              "  <tbody>\n",
              "    <tr>\n",
              "      <th>count</th>\n",
              "      <td>14245.000000</td>\n",
              "      <td>14245.000000</td>\n",
              "    </tr>\n",
              "    <tr>\n",
              "      <th>mean</th>\n",
              "      <td>112123.050544</td>\n",
              "      <td>32.889926</td>\n",
              "    </tr>\n",
              "    <tr>\n",
              "      <th>std</th>\n",
              "      <td>8500.457343</td>\n",
              "      <td>9.970834</td>\n",
              "    </tr>\n",
              "    <tr>\n",
              "      <th>min</th>\n",
              "      <td>100101.000000</td>\n",
              "      <td>22.000000</td>\n",
              "    </tr>\n",
              "    <tr>\n",
              "      <th>25%</th>\n",
              "      <td>105775.000000</td>\n",
              "      <td>24.000000</td>\n",
              "    </tr>\n",
              "    <tr>\n",
              "      <th>50%</th>\n",
              "      <td>111298.000000</td>\n",
              "      <td>29.000000</td>\n",
              "    </tr>\n",
              "    <tr>\n",
              "      <th>75%</th>\n",
              "      <td>116658.000000</td>\n",
              "      <td>41.000000</td>\n",
              "    </tr>\n",
              "    <tr>\n",
              "      <th>max</th>\n",
              "      <td>148988.000000</td>\n",
              "      <td>57.000000</td>\n",
              "    </tr>\n",
              "  </tbody>\n",
              "</table>\n",
              "</div>"
            ],
            "text/plain": [
              "         employee_id           age\n",
              "count   14245.000000  14245.000000\n",
              "mean   112123.050544     32.889926\n",
              "std      8500.457343      9.970834\n",
              "min    100101.000000     22.000000\n",
              "25%    105775.000000     24.000000\n",
              "50%    111298.000000     29.000000\n",
              "75%    116658.000000     41.000000\n",
              "max    148988.000000     57.000000"
            ]
          },
          "metadata": {
            "tags": []
          },
          "execution_count": 54
        }
      ]
    },
    {
      "cell_type": "code",
      "metadata": {
        "id": "BXaTnAMlXB_u",
        "colab_type": "code",
        "colab": {}
      },
      "source": [
        ""
      ],
      "execution_count": 0,
      "outputs": []
    },
    {
      "cell_type": "markdown",
      "metadata": {
        "colab_type": "text",
        "id": "Zc67oXkOWXif"
      },
      "source": [
        "# 2.1 Observations: Employee_Details\n",
        "Client has total 14245 Employee Details \n",
        "\n",
        "Below are the columns in it:\n",
        "1. employee_id – Unique ID Number for each employee\n",
        "2. age – Age of the employee\n",
        "3. gender – Gender of the employee\n",
        "4. marital_status – Marital Status of the employee"
      ]
    },
    {
      "cell_type": "code",
      "metadata": {
        "id": "umNemg6qPG9K",
        "colab_type": "code",
        "outputId": "1e324cb1-ed31-4c5d-debb-1420e27934d4",
        "colab": {
          "base_uri": "https://localhost:8080/",
          "height": 195
        }
      },
      "source": [
        "pdEmployeeData.head()"
      ],
      "execution_count": 0,
      "outputs": [
        {
          "output_type": "execute_result",
          "data": {
            "text/html": [
              "<div>\n",
              "<style scoped>\n",
              "    .dataframe tbody tr th:only-of-type {\n",
              "        vertical-align: middle;\n",
              "    }\n",
              "\n",
              "    .dataframe tbody tr th {\n",
              "        vertical-align: top;\n",
              "    }\n",
              "\n",
              "    .dataframe thead th {\n",
              "        text-align: right;\n",
              "    }\n",
              "</style>\n",
              "<table border=\"1\" class=\"dataframe\">\n",
              "  <thead>\n",
              "    <tr style=\"text-align: right;\">\n",
              "      <th></th>\n",
              "      <th>avg_monthly_hrs</th>\n",
              "      <th>department</th>\n",
              "      <th>filed_complaint</th>\n",
              "      <th>last_evaluation</th>\n",
              "      <th>n_projects</th>\n",
              "      <th>recently_promoted</th>\n",
              "      <th>salary</th>\n",
              "      <th>satisfaction</th>\n",
              "      <th>status</th>\n",
              "      <th>tenure</th>\n",
              "      <th>employee_id</th>\n",
              "    </tr>\n",
              "  </thead>\n",
              "  <tbody>\n",
              "    <tr>\n",
              "      <th>0</th>\n",
              "      <td>246.0</td>\n",
              "      <td>None</td>\n",
              "      <td>NaN</td>\n",
              "      <td>0.866838</td>\n",
              "      <td>6</td>\n",
              "      <td>NaN</td>\n",
              "      <td>medium</td>\n",
              "      <td>0.134415</td>\n",
              "      <td>Left</td>\n",
              "      <td>4.0</td>\n",
              "      <td>124467</td>\n",
              "    </tr>\n",
              "    <tr>\n",
              "      <th>1</th>\n",
              "      <td>134.0</td>\n",
              "      <td>None</td>\n",
              "      <td>NaN</td>\n",
              "      <td>0.555718</td>\n",
              "      <td>2</td>\n",
              "      <td>NaN</td>\n",
              "      <td>low</td>\n",
              "      <td>0.511041</td>\n",
              "      <td>Left</td>\n",
              "      <td>3.0</td>\n",
              "      <td>112210</td>\n",
              "    </tr>\n",
              "    <tr>\n",
              "      <th>2</th>\n",
              "      <td>156.0</td>\n",
              "      <td>D00-SS</td>\n",
              "      <td>1.0</td>\n",
              "      <td>0.474082</td>\n",
              "      <td>2</td>\n",
              "      <td>NaN</td>\n",
              "      <td>medium</td>\n",
              "      <td>0.405101</td>\n",
              "      <td>Left</td>\n",
              "      <td>3.0</td>\n",
              "      <td>126150</td>\n",
              "    </tr>\n",
              "    <tr>\n",
              "      <th>3</th>\n",
              "      <td>256.0</td>\n",
              "      <td>D00-SP</td>\n",
              "      <td>NaN</td>\n",
              "      <td>0.961360</td>\n",
              "      <td>6</td>\n",
              "      <td>NaN</td>\n",
              "      <td>low</td>\n",
              "      <td>0.152974</td>\n",
              "      <td>Left</td>\n",
              "      <td>4.0</td>\n",
              "      <td>125346</td>\n",
              "    </tr>\n",
              "    <tr>\n",
              "      <th>4</th>\n",
              "      <td>146.0</td>\n",
              "      <td>D00-SS</td>\n",
              "      <td>NaN</td>\n",
              "      <td>0.507349</td>\n",
              "      <td>2</td>\n",
              "      <td>NaN</td>\n",
              "      <td>medium</td>\n",
              "      <td>0.434845</td>\n",
              "      <td>Left</td>\n",
              "      <td>3.0</td>\n",
              "      <td>113707</td>\n",
              "    </tr>\n",
              "  </tbody>\n",
              "</table>\n",
              "</div>"
            ],
            "text/plain": [
              "   avg_monthly_hrs department  filed_complaint  ...  status  tenure  employee_id\n",
              "0            246.0       None              NaN  ...    Left     4.0       124467\n",
              "1            134.0       None              NaN  ...    Left     3.0       112210\n",
              "2            156.0     D00-SS              1.0  ...    Left     3.0       126150\n",
              "3            256.0     D00-SP              NaN  ...    Left     4.0       125346\n",
              "4            146.0     D00-SS              NaN  ...    Left     3.0       113707\n",
              "\n",
              "[5 rows x 11 columns]"
            ]
          },
          "metadata": {
            "tags": []
          },
          "execution_count": 46
        }
      ]
    },
    {
      "cell_type": "code",
      "metadata": {
        "id": "hYrGzBfXQwbe",
        "colab_type": "code",
        "outputId": "a12dd227-91fb-4be8-ee87-c41b656af0b8",
        "colab": {
          "base_uri": "https://localhost:8080/",
          "height": 284
        }
      },
      "source": [
        "pdEmployeeData.describe()"
      ],
      "execution_count": 0,
      "outputs": [
        {
          "output_type": "execute_result",
          "data": {
            "text/html": [
              "<div>\n",
              "<style scoped>\n",
              "    .dataframe tbody tr th:only-of-type {\n",
              "        vertical-align: middle;\n",
              "    }\n",
              "\n",
              "    .dataframe tbody tr th {\n",
              "        vertical-align: top;\n",
              "    }\n",
              "\n",
              "    .dataframe thead th {\n",
              "        text-align: right;\n",
              "    }\n",
              "</style>\n",
              "<table border=\"1\" class=\"dataframe\">\n",
              "  <thead>\n",
              "    <tr style=\"text-align: right;\">\n",
              "      <th></th>\n",
              "      <th>avg_monthly_hrs</th>\n",
              "      <th>filed_complaint</th>\n",
              "      <th>last_evaluation</th>\n",
              "      <th>n_projects</th>\n",
              "      <th>recently_promoted</th>\n",
              "      <th>satisfaction</th>\n",
              "      <th>tenure</th>\n",
              "      <th>employee_id</th>\n",
              "    </tr>\n",
              "  </thead>\n",
              "  <tbody>\n",
              "    <tr>\n",
              "      <th>count</th>\n",
              "      <td>14150.000000</td>\n",
              "      <td>2046.0</td>\n",
              "      <td>12663.000000</td>\n",
              "      <td>14150.000000</td>\n",
              "      <td>297.0</td>\n",
              "      <td>14000.000000</td>\n",
              "      <td>14000.000000</td>\n",
              "      <td>14150.000000</td>\n",
              "    </tr>\n",
              "    <tr>\n",
              "      <th>mean</th>\n",
              "      <td>199.994346</td>\n",
              "      <td>1.0</td>\n",
              "      <td>0.718399</td>\n",
              "      <td>3.778304</td>\n",
              "      <td>1.0</td>\n",
              "      <td>0.621212</td>\n",
              "      <td>3.499357</td>\n",
              "      <td>112080.750247</td>\n",
              "    </tr>\n",
              "    <tr>\n",
              "      <th>std</th>\n",
              "      <td>50.833697</td>\n",
              "      <td>0.0</td>\n",
              "      <td>0.173108</td>\n",
              "      <td>1.250162</td>\n",
              "      <td>0.0</td>\n",
              "      <td>0.250482</td>\n",
              "      <td>1.462584</td>\n",
              "      <td>8748.202856</td>\n",
              "    </tr>\n",
              "    <tr>\n",
              "      <th>min</th>\n",
              "      <td>49.000000</td>\n",
              "      <td>1.0</td>\n",
              "      <td>0.316175</td>\n",
              "      <td>1.000000</td>\n",
              "      <td>1.0</td>\n",
              "      <td>0.040058</td>\n",
              "      <td>2.000000</td>\n",
              "      <td>0.000000</td>\n",
              "    </tr>\n",
              "    <tr>\n",
              "      <th>25%</th>\n",
              "      <td>155.000000</td>\n",
              "      <td>1.0</td>\n",
              "      <td>0.563711</td>\n",
              "      <td>3.000000</td>\n",
              "      <td>1.0</td>\n",
              "      <td>0.450356</td>\n",
              "      <td>3.000000</td>\n",
              "      <td>105772.500000</td>\n",
              "    </tr>\n",
              "    <tr>\n",
              "      <th>50%</th>\n",
              "      <td>199.000000</td>\n",
              "      <td>1.0</td>\n",
              "      <td>0.724731</td>\n",
              "      <td>4.000000</td>\n",
              "      <td>1.0</td>\n",
              "      <td>0.652394</td>\n",
              "      <td>3.000000</td>\n",
              "      <td>111291.500000</td>\n",
              "    </tr>\n",
              "    <tr>\n",
              "      <th>75%</th>\n",
              "      <td>245.000000</td>\n",
              "      <td>1.0</td>\n",
              "      <td>0.871409</td>\n",
              "      <td>5.000000</td>\n",
              "      <td>1.0</td>\n",
              "      <td>0.824925</td>\n",
              "      <td>4.000000</td>\n",
              "      <td>116650.750000</td>\n",
              "    </tr>\n",
              "    <tr>\n",
              "      <th>max</th>\n",
              "      <td>310.000000</td>\n",
              "      <td>1.0</td>\n",
              "      <td>1.000000</td>\n",
              "      <td>7.000000</td>\n",
              "      <td>1.0</td>\n",
              "      <td>1.000000</td>\n",
              "      <td>10.000000</td>\n",
              "      <td>148988.000000</td>\n",
              "    </tr>\n",
              "  </tbody>\n",
              "</table>\n",
              "</div>"
            ],
            "text/plain": [
              "       avg_monthly_hrs  filed_complaint  ...        tenure    employee_id\n",
              "count     14150.000000           2046.0  ...  14000.000000   14150.000000\n",
              "mean        199.994346              1.0  ...      3.499357  112080.750247\n",
              "std          50.833697              0.0  ...      1.462584    8748.202856\n",
              "min          49.000000              1.0  ...      2.000000       0.000000\n",
              "25%         155.000000              1.0  ...      3.000000  105772.500000\n",
              "50%         199.000000              1.0  ...      3.000000  111291.500000\n",
              "75%         245.000000              1.0  ...      4.000000  116650.750000\n",
              "max         310.000000              1.0  ...     10.000000  148988.000000\n",
              "\n",
              "[8 rows x 8 columns]"
            ]
          },
          "metadata": {
            "tags": []
          },
          "execution_count": 6
        }
      ]
    },
    {
      "cell_type": "code",
      "metadata": {
        "id": "YAPhGNOWRA7A",
        "colab_type": "code",
        "colab": {}
      },
      "source": [
        "pdEmployeeData.info()"
      ],
      "execution_count": 0,
      "outputs": []
    },
    {
      "cell_type": "code",
      "metadata": {
        "id": "xMY49i9kS0YO",
        "colab_type": "code",
        "outputId": "e2f85309-e75d-48d0-b0be-d627ff3b7b00",
        "colab": {
          "base_uri": "https://localhost:8080/",
          "height": 218
        }
      },
      "source": [
        "pdEmployeeData.isnull().sum()"
      ],
      "execution_count": 0,
      "outputs": [
        {
          "output_type": "execute_result",
          "data": {
            "text/plain": [
              "avg_monthly_hrs         0\n",
              "department            707\n",
              "filed_complaint         0\n",
              "last_evaluation      1487\n",
              "n_projects              0\n",
              "recently_promoted       0\n",
              "salary                  0\n",
              "satisfaction          150\n",
              "status                  0\n",
              "tenure                150\n",
              "employee_id             0\n",
              "dtype: int64"
            ]
          },
          "metadata": {
            "tags": []
          },
          "execution_count": 13
        }
      ]
    },
    {
      "cell_type": "code",
      "metadata": {
        "id": "8slcWnVRRjfD",
        "colab_type": "code",
        "colab": {}
      },
      "source": [
        "pdEmployeeData[\"filed_complaint\"].fillna(0, inplace=True)\n",
        "pdEmployeeData[\"recently_promoted\"].fillna(0, inplace=True)"
      ],
      "execution_count": 0,
      "outputs": []
    },
    {
      "cell_type": "code",
      "metadata": {
        "id": "ux23tugMTBAu",
        "colab_type": "code",
        "outputId": "ab3f815b-6fd5-4bd4-c3a0-f552ddd06e00",
        "colab": {
          "base_uri": "https://localhost:8080/",
          "height": 67
        }
      },
      "source": [
        "pdEmployeeData.department.unique()"
      ],
      "execution_count": 0,
      "outputs": [
        {
          "output_type": "execute_result",
          "data": {
            "text/plain": [
              "array([None, 'D00-SS', 'D00-SP', 'D00-MT', 'D00-PD', 'D00-IT', 'D00-AD',\n",
              "       'D00-MN', 'D00-ENG', 'D00-PR', 'D00-TP', 'D00-FN', '-IT'],\n",
              "      dtype=object)"
            ]
          },
          "metadata": {
            "tags": []
          },
          "execution_count": 19
        }
      ]
    },
    {
      "cell_type": "code",
      "metadata": {
        "id": "8K33rwBXTres",
        "colab_type": "code",
        "colab": {}
      },
      "source": [
        "pdEmployeeData[\"department\"] = pdEmployeeData[\"department\"].replace({'-IT':'D00-IT'}, regex=False)"
      ],
      "execution_count": 0,
      "outputs": []
    },
    {
      "cell_type": "code",
      "metadata": {
        "id": "MsHCC5EqVK9q",
        "colab_type": "code",
        "outputId": "4658aa38-cc8b-4849-c6bb-7d9cf9b72d9c",
        "colab": {
          "base_uri": "https://localhost:8080/",
          "height": 34
        }
      },
      "source": [
        "pdEmployeeData[\"department\"].isnull().sum()"
      ],
      "execution_count": 0,
      "outputs": [
        {
          "output_type": "execute_result",
          "data": {
            "text/plain": [
              "707"
            ]
          },
          "metadata": {
            "tags": []
          },
          "execution_count": 7
        }
      ]
    },
    {
      "cell_type": "code",
      "metadata": {
        "id": "W5FQKpNOUlE2",
        "colab_type": "code",
        "outputId": "29d710ec-e1c3-4945-d91b-71b5b486e017",
        "colab": {
          "base_uri": "https://localhost:8080/",
          "height": 50
        }
      },
      "source": [
        "mode = pdEmployeeData[\"department\"].mode()\n",
        "mode"
      ],
      "execution_count": 0,
      "outputs": [
        {
          "output_type": "execute_result",
          "data": {
            "text/plain": [
              "0    D00-SS\n",
              "dtype: object"
            ]
          },
          "metadata": {
            "tags": []
          },
          "execution_count": 9
        }
      ]
    },
    {
      "cell_type": "code",
      "metadata": {
        "id": "GTR0QgDRY-6v",
        "colab_type": "code",
        "outputId": "a16071ea-a8f7-41a0-b731-5ab139cbdb00",
        "colab": {
          "base_uri": "https://localhost:8080/",
          "height": 34
        }
      },
      "source": [
        "pdEmployeeData[\"department\"] = pdEmployeeData[\"department\"].fillna(mode[0])\n",
        "pdEmployeeData[\"department\"].isnull().sum()"
      ],
      "execution_count": 0,
      "outputs": [
        {
          "output_type": "execute_result",
          "data": {
            "text/plain": [
              "0"
            ]
          },
          "metadata": {
            "tags": []
          },
          "execution_count": 10
        }
      ]
    },
    {
      "cell_type": "code",
      "metadata": {
        "id": "yNIFx0lIXmiW",
        "colab_type": "code",
        "colab": {}
      },
      "source": [
        "meanLE = pdEmployeeData[\"last_evaluation\"].mean()\n",
        "pdEmployeeData[\"last_evaluation\"] = pdEmployeeData[\"last_evaluation\"].fillna(meanLE)"
      ],
      "execution_count": 0,
      "outputs": []
    },
    {
      "cell_type": "code",
      "metadata": {
        "id": "H5QAXYBpXuoW",
        "colab_type": "code",
        "colab": {}
      },
      "source": [
        "meanS = pdEmployeeData[\"satisfaction\"].mean()\n",
        "pdEmployeeData[\"satisfaction\"] = pdEmployeeData[\"satisfaction\"].fillna(meanS)"
      ],
      "execution_count": 0,
      "outputs": []
    },
    {
      "cell_type": "code",
      "metadata": {
        "id": "lqFeFtHGX5HU",
        "colab_type": "code",
        "colab": {}
      },
      "source": [
        "meanT = pdEmployeeData[\"tenure\"].mean()\n",
        "pdEmployeeData[\"tenure\"] = pdEmployeeData[\"tenure\"].fillna(meanT)"
      ],
      "execution_count": 0,
      "outputs": []
    },
    {
      "cell_type": "code",
      "metadata": {
        "id": "7lzoMFpOYM5e",
        "colab_type": "code",
        "outputId": "841fbceb-fa34-443b-a173-bca7cbc3ab8b",
        "colab": {
          "base_uri": "https://localhost:8080/",
          "height": 218
        }
      },
      "source": [
        "pdEmployeeData.isnull().sum()"
      ],
      "execution_count": 0,
      "outputs": [
        {
          "output_type": "execute_result",
          "data": {
            "text/plain": [
              "avg_monthly_hrs      0\n",
              "department           0\n",
              "filed_complaint      0\n",
              "last_evaluation      0\n",
              "n_projects           0\n",
              "recently_promoted    0\n",
              "salary               0\n",
              "satisfaction         0\n",
              "status               0\n",
              "tenure               0\n",
              "employee_id          0\n",
              "dtype: int64"
            ]
          },
          "metadata": {
            "tags": []
          },
          "execution_count": 13
        }
      ]
    },
    {
      "cell_type": "code",
      "metadata": {
        "id": "h5mLegXKSkNP",
        "colab_type": "code",
        "colab": {}
      },
      "source": [
        "profile = pandas_profiling.ProfileReport(pdEmployeeData)\n",
        "profile.to_file(outputfile=\"pdEmployeeData.html\")"
      ],
      "execution_count": 0,
      "outputs": []
    },
    {
      "cell_type": "code",
      "metadata": {
        "id": "SqXGKro-cMIM",
        "colab_type": "code",
        "colab": {}
      },
      "source": [
        "pdEmployeeData = pdEmployeeData[pdEmployeeData.employee_id != 0]"
      ],
      "execution_count": 0,
      "outputs": []
    },
    {
      "cell_type": "code",
      "metadata": {
        "id": "-wdKHgpQazSB",
        "colab_type": "code",
        "colab": {}
      },
      "source": [
        "files.download(\"pdEmployeeData.html\")"
      ],
      "execution_count": 0,
      "outputs": []
    },
    {
      "cell_type": "code",
      "metadata": {
        "id": "zy2CIFErcsO8",
        "colab_type": "code",
        "colab": {}
      },
      "source": [
        "profile = pandas_profiling.ProfileReport(pdEmployeeData)\n",
        "profile.to_file(outputfile=\"pdEmployeeData.html\")"
      ],
      "execution_count": 0,
      "outputs": []
    },
    {
      "cell_type": "code",
      "metadata": {
        "id": "o37fxl4PctBW",
        "colab_type": "code",
        "colab": {}
      },
      "source": [
        "files.download(\"pdEmployeeData.html\")"
      ],
      "execution_count": 0,
      "outputs": []
    },
    {
      "cell_type": "markdown",
      "metadata": {
        "id": "F4zx94hiXMHi",
        "colab_type": "text"
      },
      "source": [
        "Let's join all 3 dataset and create a single one. Would be much better to get insights on all of the features togather."
      ]
    },
    {
      "cell_type": "code",
      "metadata": {
        "id": "8d4Z_poJW7Iu",
        "colab_type": "code",
        "colab": {}
      },
      "source": [
        "pdEmployeeTemp = pd.merge(pdEmployeeData, pdEmployeeDetails, on = 'employee_id', how = 'left')"
      ],
      "execution_count": 0,
      "outputs": []
    },
    {
      "cell_type": "code",
      "metadata": {
        "id": "tEiD_hrRZiZS",
        "colab_type": "code",
        "outputId": "04385573-b355-4639-b437-f463f637b7bc",
        "colab": {
          "base_uri": "https://localhost:8080/",
          "height": 195
        }
      },
      "source": [
        "pdEmployeeTemp.head()"
      ],
      "execution_count": 0,
      "outputs": [
        {
          "output_type": "execute_result",
          "data": {
            "text/html": [
              "<div>\n",
              "<style scoped>\n",
              "    .dataframe tbody tr th:only-of-type {\n",
              "        vertical-align: middle;\n",
              "    }\n",
              "\n",
              "    .dataframe tbody tr th {\n",
              "        vertical-align: top;\n",
              "    }\n",
              "\n",
              "    .dataframe thead th {\n",
              "        text-align: right;\n",
              "    }\n",
              "</style>\n",
              "<table border=\"1\" class=\"dataframe\">\n",
              "  <thead>\n",
              "    <tr style=\"text-align: right;\">\n",
              "      <th></th>\n",
              "      <th>avg_monthly_hrs</th>\n",
              "      <th>department</th>\n",
              "      <th>filed_complaint</th>\n",
              "      <th>last_evaluation</th>\n",
              "      <th>n_projects</th>\n",
              "      <th>recently_promoted</th>\n",
              "      <th>salary</th>\n",
              "      <th>satisfaction</th>\n",
              "      <th>status</th>\n",
              "      <th>tenure</th>\n",
              "      <th>employee_id</th>\n",
              "      <th>age</th>\n",
              "      <th>gender</th>\n",
              "      <th>marital_status</th>\n",
              "    </tr>\n",
              "  </thead>\n",
              "  <tbody>\n",
              "    <tr>\n",
              "      <th>0</th>\n",
              "      <td>246.0</td>\n",
              "      <td>None</td>\n",
              "      <td>NaN</td>\n",
              "      <td>0.866838</td>\n",
              "      <td>6</td>\n",
              "      <td>NaN</td>\n",
              "      <td>medium</td>\n",
              "      <td>0.134415</td>\n",
              "      <td>Left</td>\n",
              "      <td>4.0</td>\n",
              "      <td>124467</td>\n",
              "      <td>42.0</td>\n",
              "      <td>Female</td>\n",
              "      <td>Married</td>\n",
              "    </tr>\n",
              "    <tr>\n",
              "      <th>1</th>\n",
              "      <td>134.0</td>\n",
              "      <td>None</td>\n",
              "      <td>NaN</td>\n",
              "      <td>0.555718</td>\n",
              "      <td>2</td>\n",
              "      <td>NaN</td>\n",
              "      <td>low</td>\n",
              "      <td>0.511041</td>\n",
              "      <td>Left</td>\n",
              "      <td>3.0</td>\n",
              "      <td>112210</td>\n",
              "      <td>23.0</td>\n",
              "      <td>Female</td>\n",
              "      <td>Unmarried</td>\n",
              "    </tr>\n",
              "    <tr>\n",
              "      <th>2</th>\n",
              "      <td>156.0</td>\n",
              "      <td>D00-SS</td>\n",
              "      <td>1.0</td>\n",
              "      <td>0.474082</td>\n",
              "      <td>2</td>\n",
              "      <td>NaN</td>\n",
              "      <td>medium</td>\n",
              "      <td>0.405101</td>\n",
              "      <td>Left</td>\n",
              "      <td>3.0</td>\n",
              "      <td>126150</td>\n",
              "      <td>24.0</td>\n",
              "      <td>Female</td>\n",
              "      <td>Unmarried</td>\n",
              "    </tr>\n",
              "    <tr>\n",
              "      <th>3</th>\n",
              "      <td>256.0</td>\n",
              "      <td>D00-SP</td>\n",
              "      <td>NaN</td>\n",
              "      <td>0.961360</td>\n",
              "      <td>6</td>\n",
              "      <td>NaN</td>\n",
              "      <td>low</td>\n",
              "      <td>0.152974</td>\n",
              "      <td>Left</td>\n",
              "      <td>4.0</td>\n",
              "      <td>125346</td>\n",
              "      <td>51.0</td>\n",
              "      <td>Female</td>\n",
              "      <td>Married</td>\n",
              "    </tr>\n",
              "    <tr>\n",
              "      <th>4</th>\n",
              "      <td>146.0</td>\n",
              "      <td>D00-SS</td>\n",
              "      <td>NaN</td>\n",
              "      <td>0.507349</td>\n",
              "      <td>2</td>\n",
              "      <td>NaN</td>\n",
              "      <td>medium</td>\n",
              "      <td>0.434845</td>\n",
              "      <td>Left</td>\n",
              "      <td>3.0</td>\n",
              "      <td>113707</td>\n",
              "      <td>23.0</td>\n",
              "      <td>Female</td>\n",
              "      <td>Unmarried</td>\n",
              "    </tr>\n",
              "  </tbody>\n",
              "</table>\n",
              "</div>"
            ],
            "text/plain": [
              "   avg_monthly_hrs department  filed_complaint  ...   age  gender  marital_status\n",
              "0            246.0       None              NaN  ...  42.0  Female         Married\n",
              "1            134.0       None              NaN  ...  23.0  Female       Unmarried\n",
              "2            156.0     D00-SS              1.0  ...  24.0  Female       Unmarried\n",
              "3            256.0     D00-SP              NaN  ...  51.0  Female         Married\n",
              "4            146.0     D00-SS              NaN  ...  23.0  Female       Unmarried\n",
              "\n",
              "[5 rows x 14 columns]"
            ]
          },
          "metadata": {
            "tags": []
          },
          "execution_count": 12
        }
      ]
    },
    {
      "cell_type": "code",
      "metadata": {
        "id": "WS3FsrnUZpd4",
        "colab_type": "code",
        "colab": {}
      },
      "source": [
        "pdEmployeeMerged = pd.merge(pdEmployeeTemp, pdDepartments, left_on='department',right_on='dept_id', how = 'left')"
      ],
      "execution_count": 0,
      "outputs": []
    },
    {
      "cell_type": "code",
      "metadata": {
        "id": "HBA8jT85ayf8",
        "colab_type": "code",
        "outputId": "a6a72081-4df4-4428-d42d-1f7edb7e7a1c",
        "colab": {
          "base_uri": "https://localhost:8080/",
          "height": 299
        }
      },
      "source": [
        "pdEmployeeMerged.head()"
      ],
      "execution_count": 0,
      "outputs": [
        {
          "output_type": "execute_result",
          "data": {
            "text/html": [
              "<div>\n",
              "<style scoped>\n",
              "    .dataframe tbody tr th:only-of-type {\n",
              "        vertical-align: middle;\n",
              "    }\n",
              "\n",
              "    .dataframe tbody tr th {\n",
              "        vertical-align: top;\n",
              "    }\n",
              "\n",
              "    .dataframe thead th {\n",
              "        text-align: right;\n",
              "    }\n",
              "</style>\n",
              "<table border=\"1\" class=\"dataframe\">\n",
              "  <thead>\n",
              "    <tr style=\"text-align: right;\">\n",
              "      <th></th>\n",
              "      <th>avg_monthly_hrs</th>\n",
              "      <th>department</th>\n",
              "      <th>filed_complaint</th>\n",
              "      <th>last_evaluation</th>\n",
              "      <th>n_projects</th>\n",
              "      <th>recently_promoted</th>\n",
              "      <th>salary</th>\n",
              "      <th>satisfaction</th>\n",
              "      <th>status</th>\n",
              "      <th>tenure</th>\n",
              "      <th>employee_id</th>\n",
              "      <th>age</th>\n",
              "      <th>gender</th>\n",
              "      <th>marital_status</th>\n",
              "      <th>dept_id</th>\n",
              "      <th>dept_name</th>\n",
              "      <th>dept_head</th>\n",
              "    </tr>\n",
              "  </thead>\n",
              "  <tbody>\n",
              "    <tr>\n",
              "      <th>0</th>\n",
              "      <td>246.0</td>\n",
              "      <td>D00-SS</td>\n",
              "      <td>0.0</td>\n",
              "      <td>0.866838</td>\n",
              "      <td>6</td>\n",
              "      <td>0.0</td>\n",
              "      <td>medium</td>\n",
              "      <td>0.134415</td>\n",
              "      <td>Left</td>\n",
              "      <td>4.0</td>\n",
              "      <td>124467</td>\n",
              "      <td>42</td>\n",
              "      <td>Female</td>\n",
              "      <td>Married</td>\n",
              "      <td>D00-SS</td>\n",
              "      <td>Sales</td>\n",
              "      <td>Edward J Bayley</td>\n",
              "    </tr>\n",
              "    <tr>\n",
              "      <th>1</th>\n",
              "      <td>134.0</td>\n",
              "      <td>D00-SS</td>\n",
              "      <td>0.0</td>\n",
              "      <td>0.555718</td>\n",
              "      <td>2</td>\n",
              "      <td>0.0</td>\n",
              "      <td>low</td>\n",
              "      <td>0.511041</td>\n",
              "      <td>Left</td>\n",
              "      <td>3.0</td>\n",
              "      <td>112210</td>\n",
              "      <td>23</td>\n",
              "      <td>Female</td>\n",
              "      <td>Unmarried</td>\n",
              "      <td>D00-SS</td>\n",
              "      <td>Sales</td>\n",
              "      <td>Edward J Bayley</td>\n",
              "    </tr>\n",
              "    <tr>\n",
              "      <th>2</th>\n",
              "      <td>156.0</td>\n",
              "      <td>D00-SS</td>\n",
              "      <td>1.0</td>\n",
              "      <td>0.474082</td>\n",
              "      <td>2</td>\n",
              "      <td>0.0</td>\n",
              "      <td>medium</td>\n",
              "      <td>0.405101</td>\n",
              "      <td>Left</td>\n",
              "      <td>3.0</td>\n",
              "      <td>126150</td>\n",
              "      <td>24</td>\n",
              "      <td>Female</td>\n",
              "      <td>Unmarried</td>\n",
              "      <td>D00-SS</td>\n",
              "      <td>Sales</td>\n",
              "      <td>Edward J Bayley</td>\n",
              "    </tr>\n",
              "    <tr>\n",
              "      <th>3</th>\n",
              "      <td>256.0</td>\n",
              "      <td>D00-SP</td>\n",
              "      <td>0.0</td>\n",
              "      <td>0.961360</td>\n",
              "      <td>6</td>\n",
              "      <td>0.0</td>\n",
              "      <td>low</td>\n",
              "      <td>0.152974</td>\n",
              "      <td>Left</td>\n",
              "      <td>4.0</td>\n",
              "      <td>125346</td>\n",
              "      <td>51</td>\n",
              "      <td>Female</td>\n",
              "      <td>Married</td>\n",
              "      <td>D00-SP</td>\n",
              "      <td>Support</td>\n",
              "      <td>Amelia Westray</td>\n",
              "    </tr>\n",
              "    <tr>\n",
              "      <th>4</th>\n",
              "      <td>146.0</td>\n",
              "      <td>D00-SS</td>\n",
              "      <td>0.0</td>\n",
              "      <td>0.507349</td>\n",
              "      <td>2</td>\n",
              "      <td>0.0</td>\n",
              "      <td>medium</td>\n",
              "      <td>0.434845</td>\n",
              "      <td>Left</td>\n",
              "      <td>3.0</td>\n",
              "      <td>113707</td>\n",
              "      <td>23</td>\n",
              "      <td>Female</td>\n",
              "      <td>Unmarried</td>\n",
              "      <td>D00-SS</td>\n",
              "      <td>Sales</td>\n",
              "      <td>Edward J Bayley</td>\n",
              "    </tr>\n",
              "  </tbody>\n",
              "</table>\n",
              "</div>"
            ],
            "text/plain": [
              "   avg_monthly_hrs department  ...  dept_name        dept_head\n",
              "0            246.0     D00-SS  ...      Sales  Edward J Bayley\n",
              "1            134.0     D00-SS  ...      Sales  Edward J Bayley\n",
              "2            156.0     D00-SS  ...      Sales  Edward J Bayley\n",
              "3            256.0     D00-SP  ...    Support   Amelia Westray\n",
              "4            146.0     D00-SS  ...      Sales  Edward J Bayley\n",
              "\n",
              "[5 rows x 17 columns]"
            ]
          },
          "metadata": {
            "tags": []
          },
          "execution_count": 68
        }
      ]
    },
    {
      "cell_type": "code",
      "metadata": {
        "id": "PTuA5AcgdbAg",
        "colab_type": "code",
        "colab": {}
      },
      "source": [
        "#Drop duplicate department id\n",
        "pdEmployeeMerged = pdEmployeeMerged.drop(['department','dept_id','dept_head'], axis=1)"
      ],
      "execution_count": 0,
      "outputs": []
    },
    {
      "cell_type": "code",
      "metadata": {
        "id": "zMeSUgyvdoEo",
        "colab_type": "code",
        "outputId": "7a00411d-fba6-44c9-b174-942be5b421ec",
        "colab": {
          "base_uri": "https://localhost:8080/",
          "height": 195
        }
      },
      "source": [
        "pdEmployeeMerged.head()"
      ],
      "execution_count": 0,
      "outputs": [
        {
          "output_type": "execute_result",
          "data": {
            "text/html": [
              "<div>\n",
              "<style scoped>\n",
              "    .dataframe tbody tr th:only-of-type {\n",
              "        vertical-align: middle;\n",
              "    }\n",
              "\n",
              "    .dataframe tbody tr th {\n",
              "        vertical-align: top;\n",
              "    }\n",
              "\n",
              "    .dataframe thead th {\n",
              "        text-align: right;\n",
              "    }\n",
              "</style>\n",
              "<table border=\"1\" class=\"dataframe\">\n",
              "  <thead>\n",
              "    <tr style=\"text-align: right;\">\n",
              "      <th></th>\n",
              "      <th>avg_monthly_hrs</th>\n",
              "      <th>filed_complaint</th>\n",
              "      <th>last_evaluation</th>\n",
              "      <th>n_projects</th>\n",
              "      <th>recently_promoted</th>\n",
              "      <th>salary</th>\n",
              "      <th>satisfaction</th>\n",
              "      <th>status</th>\n",
              "      <th>tenure</th>\n",
              "      <th>employee_id</th>\n",
              "      <th>age</th>\n",
              "      <th>gender</th>\n",
              "      <th>marital_status</th>\n",
              "      <th>dept_name</th>\n",
              "    </tr>\n",
              "  </thead>\n",
              "  <tbody>\n",
              "    <tr>\n",
              "      <th>0</th>\n",
              "      <td>246.0</td>\n",
              "      <td>0.0</td>\n",
              "      <td>0.866838</td>\n",
              "      <td>6</td>\n",
              "      <td>0.0</td>\n",
              "      <td>medium</td>\n",
              "      <td>0.134415</td>\n",
              "      <td>Left</td>\n",
              "      <td>4.0</td>\n",
              "      <td>124467</td>\n",
              "      <td>42.0</td>\n",
              "      <td>Female</td>\n",
              "      <td>Married</td>\n",
              "      <td>Sales</td>\n",
              "    </tr>\n",
              "    <tr>\n",
              "      <th>1</th>\n",
              "      <td>134.0</td>\n",
              "      <td>0.0</td>\n",
              "      <td>0.555718</td>\n",
              "      <td>2</td>\n",
              "      <td>0.0</td>\n",
              "      <td>low</td>\n",
              "      <td>0.511041</td>\n",
              "      <td>Left</td>\n",
              "      <td>3.0</td>\n",
              "      <td>112210</td>\n",
              "      <td>23.0</td>\n",
              "      <td>Female</td>\n",
              "      <td>Unmarried</td>\n",
              "      <td>Sales</td>\n",
              "    </tr>\n",
              "    <tr>\n",
              "      <th>2</th>\n",
              "      <td>156.0</td>\n",
              "      <td>1.0</td>\n",
              "      <td>0.474082</td>\n",
              "      <td>2</td>\n",
              "      <td>0.0</td>\n",
              "      <td>medium</td>\n",
              "      <td>0.405101</td>\n",
              "      <td>Left</td>\n",
              "      <td>3.0</td>\n",
              "      <td>126150</td>\n",
              "      <td>24.0</td>\n",
              "      <td>Female</td>\n",
              "      <td>Unmarried</td>\n",
              "      <td>Sales</td>\n",
              "    </tr>\n",
              "    <tr>\n",
              "      <th>3</th>\n",
              "      <td>256.0</td>\n",
              "      <td>0.0</td>\n",
              "      <td>0.961360</td>\n",
              "      <td>6</td>\n",
              "      <td>0.0</td>\n",
              "      <td>low</td>\n",
              "      <td>0.152974</td>\n",
              "      <td>Left</td>\n",
              "      <td>4.0</td>\n",
              "      <td>125346</td>\n",
              "      <td>51.0</td>\n",
              "      <td>Female</td>\n",
              "      <td>Married</td>\n",
              "      <td>Support</td>\n",
              "    </tr>\n",
              "    <tr>\n",
              "      <th>4</th>\n",
              "      <td>146.0</td>\n",
              "      <td>0.0</td>\n",
              "      <td>0.507349</td>\n",
              "      <td>2</td>\n",
              "      <td>0.0</td>\n",
              "      <td>medium</td>\n",
              "      <td>0.434845</td>\n",
              "      <td>Left</td>\n",
              "      <td>3.0</td>\n",
              "      <td>113707</td>\n",
              "      <td>23.0</td>\n",
              "      <td>Female</td>\n",
              "      <td>Unmarried</td>\n",
              "      <td>Sales</td>\n",
              "    </tr>\n",
              "  </tbody>\n",
              "</table>\n",
              "</div>"
            ],
            "text/plain": [
              "   avg_monthly_hrs  filed_complaint  ...  marital_status  dept_name\n",
              "0            246.0              0.0  ...         Married      Sales\n",
              "1            134.0              0.0  ...       Unmarried      Sales\n",
              "2            156.0              1.0  ...       Unmarried      Sales\n",
              "3            256.0              0.0  ...         Married    Support\n",
              "4            146.0              0.0  ...       Unmarried      Sales\n",
              "\n",
              "[5 rows x 14 columns]"
            ]
          },
          "metadata": {
            "tags": []
          },
          "execution_count": 19
        }
      ]
    },
    {
      "cell_type": "code",
      "metadata": {
        "id": "2EPioTdtisyG",
        "colab_type": "code",
        "colab": {}
      },
      "source": [
        "# Let's convert categorical Text values in Numerical - will be helpful to check correlation\n",
        "\n",
        "# Marital_Status : Married = 0 Unmarried = 1\n",
        "pdEmployeeMerged[\"marriedNum\"] = pdEmployeeMerged[\"marital_status\"].astype('category').cat.codes\n",
        "# gender : Female = 0 Male = 1\n",
        "pdEmployeeMerged[\"genderNum\"] = pdEmployeeMerged[\"gender\"].astype('category').cat.codes\n",
        "# Status : Left = 1 Employeed = 0\n",
        "pdEmployeeMerged[\"statusNum\"] = pdEmployeeMerged[\"status\"].astype('category').cat.codes\n",
        "# Salary : Let's create dummies\n",
        "pdEmployeeMerged1 = pd.get_dummies(pdEmployeeMerged,columns=['salary','dept_name'], prefix = ['salary','dept'])"
      ],
      "execution_count": 0,
      "outputs": []
    },
    {
      "cell_type": "code",
      "metadata": {
        "id": "HlxgAl73jpzZ",
        "colab_type": "code",
        "outputId": "6b3276a1-5626-4888-d158-c032804ef431",
        "colab": {
          "base_uri": "https://localhost:8080/",
          "height": 215
        }
      },
      "source": [
        "pdEmployeeMerged1.head()\n",
        "pdEmployeeMerged1 = pdEmployeeMerged1.drop(['status','gender','marital_status'], axis=1)\n",
        "pdEmployeeMerged1.head()"
      ],
      "execution_count": 0,
      "outputs": [
        {
          "output_type": "execute_result",
          "data": {
            "text/html": [
              "<div>\n",
              "<style scoped>\n",
              "    .dataframe tbody tr th:only-of-type {\n",
              "        vertical-align: middle;\n",
              "    }\n",
              "\n",
              "    .dataframe tbody tr th {\n",
              "        vertical-align: top;\n",
              "    }\n",
              "\n",
              "    .dataframe thead th {\n",
              "        text-align: right;\n",
              "    }\n",
              "</style>\n",
              "<table border=\"1\" class=\"dataframe\">\n",
              "  <thead>\n",
              "    <tr style=\"text-align: right;\">\n",
              "      <th></th>\n",
              "      <th>avg_monthly_hrs</th>\n",
              "      <th>filed_complaint</th>\n",
              "      <th>last_evaluation</th>\n",
              "      <th>n_projects</th>\n",
              "      <th>recently_promoted</th>\n",
              "      <th>satisfaction</th>\n",
              "      <th>tenure</th>\n",
              "      <th>employee_id</th>\n",
              "      <th>age</th>\n",
              "      <th>marriedNum</th>\n",
              "      <th>genderNum</th>\n",
              "      <th>statusNum</th>\n",
              "      <th>salary_high</th>\n",
              "      <th>salary_low</th>\n",
              "      <th>salary_medium</th>\n",
              "      <th>dept_Admin</th>\n",
              "      <th>dept_Engineering</th>\n",
              "      <th>dept_Finance</th>\n",
              "      <th>dept_IT</th>\n",
              "      <th>dept_Management</th>\n",
              "      <th>dept_Marketing</th>\n",
              "      <th>dept_Procurement</th>\n",
              "      <th>dept_Product</th>\n",
              "      <th>dept_Sales</th>\n",
              "      <th>dept_Support</th>\n",
              "      <th>dept_Temp</th>\n",
              "    </tr>\n",
              "  </thead>\n",
              "  <tbody>\n",
              "    <tr>\n",
              "      <th>0</th>\n",
              "      <td>246.0</td>\n",
              "      <td>0.0</td>\n",
              "      <td>0.866838</td>\n",
              "      <td>6</td>\n",
              "      <td>0.0</td>\n",
              "      <td>0.134415</td>\n",
              "      <td>4.0</td>\n",
              "      <td>124467</td>\n",
              "      <td>42</td>\n",
              "      <td>0</td>\n",
              "      <td>0</td>\n",
              "      <td>1</td>\n",
              "      <td>0</td>\n",
              "      <td>0</td>\n",
              "      <td>1</td>\n",
              "      <td>0</td>\n",
              "      <td>0</td>\n",
              "      <td>0</td>\n",
              "      <td>0</td>\n",
              "      <td>0</td>\n",
              "      <td>0</td>\n",
              "      <td>0</td>\n",
              "      <td>0</td>\n",
              "      <td>1</td>\n",
              "      <td>0</td>\n",
              "      <td>0</td>\n",
              "    </tr>\n",
              "    <tr>\n",
              "      <th>1</th>\n",
              "      <td>134.0</td>\n",
              "      <td>0.0</td>\n",
              "      <td>0.555718</td>\n",
              "      <td>2</td>\n",
              "      <td>0.0</td>\n",
              "      <td>0.511041</td>\n",
              "      <td>3.0</td>\n",
              "      <td>112210</td>\n",
              "      <td>23</td>\n",
              "      <td>1</td>\n",
              "      <td>0</td>\n",
              "      <td>1</td>\n",
              "      <td>0</td>\n",
              "      <td>1</td>\n",
              "      <td>0</td>\n",
              "      <td>0</td>\n",
              "      <td>0</td>\n",
              "      <td>0</td>\n",
              "      <td>0</td>\n",
              "      <td>0</td>\n",
              "      <td>0</td>\n",
              "      <td>0</td>\n",
              "      <td>0</td>\n",
              "      <td>1</td>\n",
              "      <td>0</td>\n",
              "      <td>0</td>\n",
              "    </tr>\n",
              "    <tr>\n",
              "      <th>2</th>\n",
              "      <td>156.0</td>\n",
              "      <td>1.0</td>\n",
              "      <td>0.474082</td>\n",
              "      <td>2</td>\n",
              "      <td>0.0</td>\n",
              "      <td>0.405101</td>\n",
              "      <td>3.0</td>\n",
              "      <td>126150</td>\n",
              "      <td>24</td>\n",
              "      <td>1</td>\n",
              "      <td>0</td>\n",
              "      <td>1</td>\n",
              "      <td>0</td>\n",
              "      <td>0</td>\n",
              "      <td>1</td>\n",
              "      <td>0</td>\n",
              "      <td>0</td>\n",
              "      <td>0</td>\n",
              "      <td>0</td>\n",
              "      <td>0</td>\n",
              "      <td>0</td>\n",
              "      <td>0</td>\n",
              "      <td>0</td>\n",
              "      <td>1</td>\n",
              "      <td>0</td>\n",
              "      <td>0</td>\n",
              "    </tr>\n",
              "    <tr>\n",
              "      <th>3</th>\n",
              "      <td>256.0</td>\n",
              "      <td>0.0</td>\n",
              "      <td>0.961360</td>\n",
              "      <td>6</td>\n",
              "      <td>0.0</td>\n",
              "      <td>0.152974</td>\n",
              "      <td>4.0</td>\n",
              "      <td>125346</td>\n",
              "      <td>51</td>\n",
              "      <td>0</td>\n",
              "      <td>0</td>\n",
              "      <td>1</td>\n",
              "      <td>0</td>\n",
              "      <td>1</td>\n",
              "      <td>0</td>\n",
              "      <td>0</td>\n",
              "      <td>0</td>\n",
              "      <td>0</td>\n",
              "      <td>0</td>\n",
              "      <td>0</td>\n",
              "      <td>0</td>\n",
              "      <td>0</td>\n",
              "      <td>0</td>\n",
              "      <td>0</td>\n",
              "      <td>1</td>\n",
              "      <td>0</td>\n",
              "    </tr>\n",
              "    <tr>\n",
              "      <th>4</th>\n",
              "      <td>146.0</td>\n",
              "      <td>0.0</td>\n",
              "      <td>0.507349</td>\n",
              "      <td>2</td>\n",
              "      <td>0.0</td>\n",
              "      <td>0.434845</td>\n",
              "      <td>3.0</td>\n",
              "      <td>113707</td>\n",
              "      <td>23</td>\n",
              "      <td>1</td>\n",
              "      <td>0</td>\n",
              "      <td>1</td>\n",
              "      <td>0</td>\n",
              "      <td>0</td>\n",
              "      <td>1</td>\n",
              "      <td>0</td>\n",
              "      <td>0</td>\n",
              "      <td>0</td>\n",
              "      <td>0</td>\n",
              "      <td>0</td>\n",
              "      <td>0</td>\n",
              "      <td>0</td>\n",
              "      <td>0</td>\n",
              "      <td>1</td>\n",
              "      <td>0</td>\n",
              "      <td>0</td>\n",
              "    </tr>\n",
              "  </tbody>\n",
              "</table>\n",
              "</div>"
            ],
            "text/plain": [
              "   avg_monthly_hrs  filed_complaint  ...  dept_Support  dept_Temp\n",
              "0            246.0              0.0  ...             0          0\n",
              "1            134.0              0.0  ...             0          0\n",
              "2            156.0              1.0  ...             0          0\n",
              "3            256.0              0.0  ...             1          0\n",
              "4            146.0              0.0  ...             0          0\n",
              "\n",
              "[5 rows x 26 columns]"
            ]
          },
          "metadata": {
            "tags": []
          },
          "execution_count": 22
        }
      ]
    },
    {
      "cell_type": "code",
      "metadata": {
        "id": "3CS0pTF_fJgA",
        "colab_type": "code",
        "colab": {}
      },
      "source": [
        "profile = pandas_profiling.ProfileReport(pdEmployeeMerged1)\n",
        "profile.to_file(outputfile=\"pdEmployeeMerged1.html\")  "
      ],
      "execution_count": 0,
      "outputs": []
    },
    {
      "cell_type": "code",
      "metadata": {
        "id": "zV2VplJuGc9l",
        "colab_type": "code",
        "colab": {}
      },
      "source": [
        "files.download(\"pdEmployeeMerged1.html\")"
      ],
      "execution_count": 0,
      "outputs": []
    },
    {
      "cell_type": "code",
      "metadata": {
        "id": "7opGtvuvCcbu",
        "colab_type": "code",
        "colab": {}
      },
      "source": [
        "pdEmployeeMerged2 = pdEmployeeMerged1.loc[pdEmployeeMerged1[\"statusNum\"] == 1]"
      ],
      "execution_count": 0,
      "outputs": []
    },
    {
      "cell_type": "code",
      "metadata": {
        "id": "zM3TTen0ELNT",
        "colab_type": "code",
        "colab": {}
      },
      "source": [
        "profile = pandas_profiling.ProfileReport(pdEmployeeMerged2)\n",
        "profile.to_file(outputfile=\"pdEmployeeMerged2.html\")  "
      ],
      "execution_count": 0,
      "outputs": []
    }
  ]
}